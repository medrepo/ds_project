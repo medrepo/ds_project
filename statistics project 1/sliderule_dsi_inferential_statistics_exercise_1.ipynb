{
 "cells": [
  {
   "cell_type": "markdown",
   "metadata": {},
   "source": [
    "## What is the true normal human body temperature? \n",
    "\n",
    "#### Background\n",
    "\n",
    "The mean normal body temperature was held to be 37$^{\\circ}$C or 98.6$^{\\circ}$F for more than 120 years since it was first conceptualized and reported by Carl Wunderlich in a famous 1868 book. In 1992, this value was revised to 36.8$^{\\circ}$C or 98.2$^{\\circ}$F. \n",
    "\n",
    "#### Exercise\n",
    "In this exercise, you will analyze a dataset of human body temperatures and employ the concepts of hypothesis testing, confidence intervals, and statistical significance.\n",
    "\n",
    "Answer the following questions **in this notebook below and submit to your Github account**. \n",
    "\n",
    "1.  Is the distribution of body temperatures normal? \n",
    "    - Remember that this is a condition for the CLT, and hence the statistical tests we are using, to apply. \n",
    "2.  Is the true population mean really 98.6 degrees F?\n",
    "    - Bring out the one sample hypothesis test! In this situation, is it approriate to apply a z-test or a t-test? How will the result be different?\n",
    "3.  At what temperature should we consider someone's temperature to be \"abnormal\"?\n",
    "    - Start by computing the margin of error and confidence interval.\n",
    "4.  Is there a significant difference between males and females in normal temperature?\n",
    "    - Set up and solve for a two sample hypothesis testing.\n",
    "\n",
    "You can include written notes in notebook cells using Markdown: \n",
    "   - In the control panel at the top, choose Cell > Cell Type > Markdown\n",
    "   - Markdown syntax: http://nestacms.com/docs/creating-content/markdown-cheat-sheet\n",
    "\n",
    "#### Resources\n",
    "\n",
    "+ Information and data sources: http://www.amstat.org/publications/jse/datasets/normtemp.txt, http://www.amstat.org/publications/jse/jse_data_archive.htm\n",
    "+ Markdown syntax: http://nestacms.com/docs/creating-content/markdown-cheat-sheet\n",
    "\n",
    "****"
   ]
  },
  {
   "cell_type": "code",
   "execution_count": 25,
   "metadata": {
    "collapsed": false
   },
   "outputs": [],
   "source": [
    "import pandas as pd\n",
    "import numpy as np\n",
    "import matplotlib.pyplot as plt\n",
    "%matplotlib inline"
   ]
  },
  {
   "cell_type": "code",
   "execution_count": 3,
   "metadata": {
    "collapsed": false
   },
   "outputs": [],
   "source": [
    "df = pd.read_csv('data/human_body_temperature.csv')"
   ]
  },
  {
   "cell_type": "code",
   "execution_count": 15,
   "metadata": {
    "collapsed": false
   },
   "outputs": [
    {
     "name": "stdout",
     "output_type": "stream",
     "text": [
      "number of observations = 130\n"
     ]
    },
    {
     "data": {
      "image/png": "[encoded data removed]",
      "text/plain": [
       "<matplotlib.figure.Figure at 0xcf7aef0>"
      ]
     },
     "metadata": {},
     "output_type": "display_data"
    }
   ],
   "source": [
    "print \"number of observations = %s\" % len(df)\n",
    "df.temperature.plot(kind='hist');"
   ]
  },
  {
   "cell_type": "markdown",
   "metadata": {},
   "source": [
    "1) conditions for normal distribution:\n",
    "    * independence: Since the sample is a random sample and contains < 10% of the population, the observations are independent.\n",
    "    * sample size and skew: This is a large sample (130 observations) > 30, hence any skew seen would not be strong.\n",
    "    \n",
    "**Hence, the distribution of body temperatures does seem to be normal.**"
   ]
  },
  {
   "cell_type": "markdown",
   "metadata": {},
   "source": [
    "2) Since the sample size is large (130 observations > 30), we can use the z-test\n",
    "\n",
    "* Set Hypothesis:\n",
    "    * H0: (population mean) M = 98.6 degree fahrenheit\n",
    "    * HA: (population mean) M != 98.6 degree fahrenheit\n",
    "* Find the test statistic z: (found in next cell)\n",
    "    \n"
   ]
  },
  {
   "cell_type": "code",
   "execution_count": 83,
   "metadata": {
    "collapsed": false
   },
   "outputs": [
    {
     "name": "stdout",
     "output_type": "stream",
     "text": [
      "sample mean (m) = 98.25\n",
      "sample standard deviation (s) = 0.73\n",
      "sample standard error (SE) = s/root(n) = 0.06\n",
      "\n",
      "\n",
      "test statistic z = -5.83\n"
     ]
    }
   ],
   "source": [
    "x = round(df.temperature.mean(),2)\n",
    "s = round(df.temperature.std(),2)\n",
    "SE = round((df.temperature.std() / np.sqrt(len(df))),2)\n",
    "M = 98.6\n",
    "z = round((x - M)/SE,2)\n",
    "\n",
    "print \"sample mean (m) = %s\" % x\n",
    "print \"sample standard deviation (s) = %s\" % s\n",
    "print \"sample standard error (SE) = s/root(n) = %s\" % SE\n",
    "print \"\\n\\ntest statistic z = %s\" % z"
   ]
  },
  {
   "cell_type": "code",
   "execution_count": 129,
   "metadata": {
    "collapsed": false
   },
   "outputs": [
    {
     "name": "stdout",
     "output_type": "stream",
     "text": [
      "p-value for 2-sided test = 0.0\n"
     ]
    },
    {
     "data": {
      "image/png": "[encoded data removed]",
      "text/plain": [
       "<matplotlib.figure.Figure at 0x18b2b630>"
      ]
     },
     "metadata": {},
     "output_type": "display_data"
    }
   ],
   "source": [
    "import scipy.stats as st\n",
    "from scipy.stats import norm\n",
    "\n",
    "l = np.linspace(-3+M,3+M,100)\n",
    "plt.plot(l,norm.pdf(l,M,SE));\n",
    "\n",
    "print \"p-value for 2-sided test = %s\" % round(2*st.norm.cdf(z),4)"
   ]
  },
  {
   "cell_type": "markdown",
   "metadata": {},
   "source": [
    "* with the above p-value < 0.05, we have strong evidence in favor of the alternative hypothesis. \n",
    "\n",
    "**Hence we reject the null hypothesis in favor of the alternative and conclude that the data provides convincing evidence that the true population mean for body temperatures is different than 98.6 degrees Fahrenheit.**"
   ]
  },
  {
   "cell_type": "markdown",
   "metadata": {},
   "source": [
    "3) Let us compute the margin of error and the 95% confidence interval for a sample mean in the next cell:"
   ]
  },
  {
   "cell_type": "code",
   "execution_count": 88,
   "metadata": {
    "collapsed": false
   },
   "outputs": [
    {
     "name": "stdout",
     "output_type": "stream",
     "text": [
      "margin of error = 1.43\n",
      "confidence interval (ci) = (96.82, 99.68)\n"
     ]
    }
   ],
   "source": [
    "# margin of error = z*s (z = 1.96 for 95% confidence interval)\n",
    "me = round(1.96 * s,2)\n",
    "print \"margin of error = %s\" % me\n",
    "\n",
    "# confidence interval (ci) = x +- z*SE\n",
    "pci = x + me\n",
    "nci = x - me\n",
    "\n",
    "print \"confidence interval (ci) = (%s, %s)\" % (nci, pci)"
   ]
  },
  {
   "cell_type": "markdown",
   "metadata": {},
   "source": [
    "From the calculations in the above cell, we are 95% confident that the observations for body temperature would fall between 96.82 and 99.68.\n",
    "\n",
    "**Based on our confidence interval above, any temperature below 96.82 or above 99.68 would be considered abnormal.**"
   ]
  },
  {
   "cell_type": "code",
   "execution_count": 100,
   "metadata": {
    "collapsed": false
   },
   "outputs": [],
   "source": [
    "dfm = df[df.gender == 'M']\n",
    "dff = df[df.gender == 'F']"
   ]
  },
  {
   "cell_type": "markdown",
   "metadata": {},
   "source": [
    "4) Since the sample size is large (65 observations > 30), we can use the z-test\n",
    "\n",
    "* Set Hypothesis:\n",
    "    * H0: (difference in population means) Mmale - Mfemale = 0\n",
    "    * HA: (difference in population means) Mmale - Mfemale != 0\n",
    "* Find the test statistic z: (found in next cell)\n",
    "    \n"
   ]
  },
  {
   "cell_type": "code",
   "execution_count": 131,
   "metadata": {
    "collapsed": false
   },
   "outputs": [
    {
     "name": "stdout",
     "output_type": "stream",
     "text": [
      "sample mean (m) = -0.29\n",
      "sample standard error (SE) = root((smale^2/nmale) + (sfemale^2/nfemale) = 0.13\n",
      "\n",
      "\n",
      "test statistic z = -2.23\n"
     ]
    }
   ],
   "source": [
    "Mdiff = 0\n",
    "xdiff = round(dfm.temperature.mean(),2) - round(dff.temperature.mean(),2)\n",
    "SEdiff = round(np.sqrt(((dfm.temperature.std() ** 2) / len(dfm)) + ((dff.temperature.std() ** 2) / len(dff))),2)\n",
    "zdiff = round((xdiff - Mdiff)/SEdiff,2)\n",
    "\n",
    "print \"sample mean (m) = %s\" % xdiff\n",
    "print \"sample standard error (SE) = root((smale^2/nmale) + (sfemale^2/nfemale) = %s\" % SEdiff\n",
    "print \"\\n\\ntest statistic z = %s\" % zdiff"
   ]
  },
  {
   "cell_type": "code",
   "execution_count": 132,
   "metadata": {
    "collapsed": false
   },
   "outputs": [
    {
     "name": "stdout",
     "output_type": "stream",
     "text": [
      "p-value for 2-sided test = 0.0257\n"
     ]
    },
    {
     "data": {
      "image/png": "[encoded data removed]",
      "text/plain": [
       "<matplotlib.figure.Figure at 0x188e3438>"
      ]
     },
     "metadata": {},
     "output_type": "display_data"
    }
   ],
   "source": [
    "l = np.linspace(-3+Mdiff,3+Mdiff,100)\n",
    "plt.plot(l,norm.pdf(l,Mdiff,SEdiff));\n",
    "\n",
    "print \"p-value for 2-sided test = %s\" % round(2*st.norm.cdf(zdiff),4)"
   ]
  },
  {
   "cell_type": "markdown",
   "metadata": {},
   "source": [
    "* with the above p-value < 0.05, we have strong evidence in favor of the alternative hypothesis. \n",
    "\n",
    "**Hence we reject the null hypothesis in favor of the alternative and conclude that the data provides convincing evidence that the average body temperature of males is different than the average body temperature of females.**\n",
    "\n",
    "* Checking for the 95% confidence interval for temperatures for both males and females to be able to compare how much difference exists between them."
   ]
  },
  {
   "cell_type": "code",
   "execution_count": 124,
   "metadata": {
    "collapsed": false
   },
   "outputs": [
    {
     "name": "stdout",
     "output_type": "stream",
     "text": [
      "The confidence interval is (-0.5448, -0.0352)\n"
     ]
    }
   ],
   "source": [
    "mediff = 1.96 * SEdiff\n",
    "pcidiff = xdiff + mediff\n",
    "ncidiff = xdiff - mediff\n",
    "\n",
    "print \"The confidence interval is (%s, %s)\" % (ncidiff, pcidiff)"
   ]
  },
  {
   "cell_type": "markdown",
   "metadata": {},
   "source": [
    "**Based on the calculations in the above cell, the average male body temperature will be 0.0352 to 0.5448 degree Fahrenheit lower than the female body temperature.**"
   ]
  }
 ],
 "metadata": {
  "kernelspec": {
   "display_name": "Python 2",
   "language": "python",
   "name": "python2"
  },
  "language_info": {
   "codemirror_mode": {
    "name": "ipython",
    "version": 2
   },
   "file_extension": ".py",
   "mimetype": "text/x-python",
   "name": "python",
   "nbconvert_exporter": "python",
   "pygments_lexer": "ipython2",
   "version": "2.7.10"
  }
 },
 "nbformat": 4,
 "nbformat_minor": 0
}
