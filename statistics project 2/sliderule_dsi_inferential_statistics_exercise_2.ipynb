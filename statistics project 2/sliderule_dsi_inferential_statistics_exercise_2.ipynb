{
 "cells": [
  {
   "cell_type": "markdown",
   "metadata": {},
   "source": [
    "\n",
    "### Examining racial discrimination in the US job market\n",
    "\n",
    "#### Background\n",
    "Racial discrimination continues to be pervasive in cultures throughout the world. Researchers examined the level of racial discrimination in the United States labor market by randomly assigning identical résumés black-sounding or white-sounding names and observing the impact on requests for interviews from employers.\n",
    "\n",
    "#### Data\n",
    "In the dataset provided, each row represents a resume. The 'race' column has two values, 'b' and 'w', indicating black-sounding and white-sounding. The column 'call' has two values, 1 and 0, indicating whether the resume received a call from employers or not.\n",
    "\n",
    "Note that the 'b' and 'w' values in race are assigned randomly to the resumes.\n",
    "\n",
    "#### Exercise\n",
    "You will perform a statistical analysis to establish whether race has a significant impact on the rate of callbacks for resumes.\n",
    "\n",
    "Answer the following questions **in this notebook below and submit to your Github account**. \n",
    "\n",
    "   1. What test is appropriate for this problem? Does CLT apply?\n",
    "   2. What are the null and alternate hypotheses?\n",
    "   3. Compute margin of error, confidence interval, and p-value.\n",
    "   4. Discuss statistical significance.\n",
    "\n",
    "You can include written notes in notebook cells using Markdown: \n",
    "   - In the control panel at the top, choose Cell > Cell Type > Markdown\n",
    "   - Markdown syntax: http://nestacms.com/docs/creating-content/markdown-cheat-sheet\n",
    "\n",
    "\n",
    "#### Resources\n",
    "+ Experiment information and data source: http://www.povertyactionlab.org/evaluation/discrimination-job-market-united-states\n",
    "+ Scipy statistical methods: http://docs.scipy.org/doc/scipy/reference/stats.html \n",
    "+ Markdown syntax: http://nestacms.com/docs/creating-content/markdown-cheat-sheet\n",
    "\n",
    "****"
   ]
  },
  {
   "cell_type": "code",
   "execution_count": 135,
   "metadata": {
    "collapsed": true
   },
   "outputs": [],
   "source": [
    "import pandas as pd\n",
    "import numpy as np\n",
    "from scipy import stats as st\n",
    "import matplotlib.pyplot as plt\n",
    "% matplotlib inline"
   ]
  },
  {
   "cell_type": "code",
   "execution_count": 2,
   "metadata": {
    "collapsed": false
   },
   "outputs": [],
   "source": [
    "data = pd.io.stata.read_stata('data/us_job_market_discrimination.dta')"
   ]
  },
  {
   "cell_type": "code",
   "execution_count": 4,
   "metadata": {
    "collapsed": false
   },
   "outputs": [
    {
     "data": {
      "text/plain": [
       "157.0"
      ]
     },
     "execution_count": 4,
     "metadata": {},
     "output_type": "execute_result"
    }
   ],
   "source": [
    "# number of callbacks for black-sounding names\n",
    "sum(data[data.race=='b'].call)"
   ]
  },
  {
   "cell_type": "markdown",
   "metadata": {
    "collapsed": false
   },
   "source": [
    "* We will be using the CLT for proportions in this case."
   ]
  },
  {
   "cell_type": "code",
   "execution_count": 153,
   "metadata": {
    "collapsed": false
   },
   "outputs": [
    {
     "name": "stdout",
     "output_type": "stream",
     "text": [
      "The proportion of callbacks received by black-sounding names = 0.06\n",
      "The proportion of callbacks received by white-sounding names = 0.1\n"
     ]
    }
   ],
   "source": [
    "# prepare dataframe of sampling distributions\n",
    "dfp = pd.DataFrame({'got callback': (['yes', 'no']),'b': ([len(data[(data.race=='b') & (data.call==1)]), len(data[(data.race=='b') & (data.call==0)])]),'w': ([len(data[(data.race=='w') & (data.call==1)]), len(data[(data.race=='w') & (data.call==0)])])})\n",
    "\n",
    "dfp.set_index('got callback')\n",
    "dfp[['b','w']] = dfp[['b','w']].astype(float)\n",
    "\n",
    "# find totals for each races\n",
    "btot = dfp.b[0] + dfp.b[1]\n",
    "wtot = dfp.w[0] + dfp.w[1]\n",
    "\n",
    "# find proportions of callbacks for each of the races\n",
    "pb = round(dfp.b[0] / btot, 2)\n",
    "pw = round(dfp.w[0] / wtot, 2)\n",
    "\n",
    "print \"The proportion of callbacks received by black-sounding names = %s\" % pb \n",
    "print \"The proportion of callbacks received by white-sounding names = %s\" % pw\n"
   ]
  },
  {
   "cell_type": "markdown",
   "metadata": {},
   "source": [
    "* Our Hypothesis:\n",
    "    * **H0: pb - pw = 0**\n",
    "    * **Ha: pb - pw != 0**\n",
    "* Calculate the pooled proportion ($\\hat{ppool}$)(in the next cell):"
   ]
  },
  {
   "cell_type": "code",
   "execution_count": 113,
   "metadata": {
    "collapsed": false
   },
   "outputs": [
    {
     "name": "stdout",
     "output_type": "stream",
     "text": [
      "The pooled proportion = 0.08\n"
     ]
    }
   ],
   "source": [
    "ppool = round((dfp.b[0] + dfp.w[0])/((dfp.b[0] + dfp.b[1]) + (dfp.w[0] + dfp.w[1])), 2)\n",
    "print \"The pooled proportion = %s\" % ppool"
   ]
  },
  {
   "cell_type": "markdown",
   "metadata": {},
   "source": [
    "* Verify the conditions for inference:\n",
    "    * independence: Since the race value has been randomly assigned to the resumes, each sample of black-sounding and white-sounding will be independent to each other and there is no dependence between the two race values. Also the sample is < 10% of total population\n",
    "    * Sample size and skew: "
   ]
  },
  {
   "cell_type": "code",
   "execution_count": 114,
   "metadata": {
    "collapsed": false
   },
   "outputs": [
    {
     "name": "stdout",
     "output_type": "stream",
     "text": [
      "2435.0 2435.0\n",
      "Success-Failure metric for black-sounding name sample = 194.8 and 2240.2\n",
      "Success-Failure metric for white-sounding name sample = 194.8 and 2240.2\n"
     ]
    }
   ],
   "source": [
    "sb1 = btot * ppool\n",
    "sb2 = btot * (1 - ppool)\n",
    "sw1 = wtot * ppool\n",
    "sw2 = wtot * (1 - ppool)\n",
    "\n",
    "print \"%s %s\" % (btot, wtot)\n",
    "print \"Success-Failure metric for black-sounding name sample = %s and %s\" % (sb1, sb2)\n",
    "print \"Success-Failure metric for white-sounding name sample = %s and %s\" % (sw1, sw2)\n",
    "\n",
    "nv = 0"
   ]
  },
  {
   "cell_type": "markdown",
   "metadata": {},
   "source": [
    "        * Since both values for success-failure conditions for both samples are > 10, we can assume that the sampling distribution of the difference in the two proportions is nearly normal. ie. \n",
    "$(\\hat{pb} - \\hat{pa}) \\sim N(null value, SE)$\n",
    "\n",
    "* Now we can find the test statistic:\n"
   ]
  },
  {
   "cell_type": "code",
   "execution_count": 131,
   "metadata": {
    "collapsed": false
   },
   "outputs": [
    {
     "name": "stdout",
     "output_type": "stream",
     "text": [
      "point estimate = -0.04\n",
      "Standard error = 0.01\n"
     ]
    }
   ],
   "source": [
    "pe = pb - pw\n",
    "SE = round(np.sqrt(((ppool * (1 - ppool))/btot) + ((ppool * (1 - ppool))/wtot)), 2)\n",
    "\n",
    "print \"point estimate = %s\" % pe\n",
    "print \"Standard error = %s\" % SE"
   ]
  },
  {
   "cell_type": "code",
   "execution_count": 132,
   "metadata": {
    "collapsed": false
   },
   "outputs": [
    {
     "data": {
      "image/png": "[encoded data removed]",
      "text/plain": [
       "<matplotlib.figure.Figure at 0x1a12a710>"
      ]
     },
     "metadata": {},
     "output_type": "display_data"
    }
   ],
   "source": [
    "from scipy.stats import norm\n",
    "\n",
    "l = np.linspace(-3+nv,3+nv)\n",
    "plt.plot(l,norm.pdf(l,nv,SE));"
   ]
  },
  {
   "cell_type": "code",
   "execution_count": 133,
   "metadata": {
    "collapsed": false
   },
   "outputs": [
    {
     "name": "stdout",
     "output_type": "stream",
     "text": [
      "The test statistic = -4.0\n"
     ]
    }
   ],
   "source": [
    "z = (pe - nv)/SE\n",
    "print \"The test statistic = %s\" % z"
   ]
  },
  {
   "cell_type": "code",
   "execution_count": 143,
   "metadata": {
    "collapsed": false
   },
   "outputs": [
    {
     "name": "stdout",
     "output_type": "stream",
     "text": [
      "The p-value = 0.0\n"
     ]
    }
   ],
   "source": [
    "pvalue = round(2*st.norm.cdf(z),2)\n",
    "print \"The p-value = %s\" % pvalue"
   ]
  },
  {
   "cell_type": "markdown",
   "metadata": {},
   "source": [
    "Since the **p-value (0) < 0.05**, we reject the null hypothesis.\n",
    "\n",
    "**We reject the null hypothesis in favor of the alternate and conclude that the data provides statistical evidence that given a sample where resumes are randomly assigned race values of black or white, the proportion of resumes which receive a callback is different for black-sounding names as compared to white-sounding names.**"
   ]
  },
  {
   "cell_type": "markdown",
   "metadata": {},
   "source": [
    "* Calculating the 95% Margin of error and the confidence interval to confirm how much difference there is in the proportion of callbacks for both samples"
   ]
  },
  {
   "cell_type": "code",
   "execution_count": 149,
   "metadata": {
    "collapsed": false
   },
   "outputs": [
    {
     "name": "stdout",
     "output_type": "stream",
     "text": [
      "The margin of error = 0.02\n"
     ]
    }
   ],
   "source": [
    "me = round(1.96 * (np.sqrt(((pb * (1 - pb))/btot) + ((pw * (1 - pw))/wtot))), 2)\n",
    "\n",
    "print \"The margin of error = %s\" % me"
   ]
  },
  {
   "cell_type": "code",
   "execution_count": 151,
   "metadata": {
    "collapsed": false
   },
   "outputs": [
    {
     "name": "stdout",
     "output_type": "stream",
     "text": [
      "The confidence interval is (-0.06, -0.02)\n"
     ]
    }
   ],
   "source": [
    "nci = (pb - pw) - me\n",
    "pci = (pb - pw) + me\n",
    "\n",
    "print \"The confidence interval is (%s, %s)\" % (nci, pci)"
   ]
  },
  {
   "cell_type": "markdown",
   "metadata": {},
   "source": [
    "**The confidence interval computed in the above cell confirms that the proportion of resumes with black-sounding names get 2% - 6% less callbacks as compared to resumes of white-sounding names.**"
   ]
  },
  {
   "cell_type": "code",
   "execution_count": null,
   "metadata": {
    "collapsed": true
   },
   "outputs": [],
   "source": []
  },
  {
   "cell_type": "code",
   "execution_count": null,
   "metadata": {
    "collapsed": true
   },
   "outputs": [],
   "source": []
  },
  {
   "cell_type": "code",
   "execution_count": null,
   "metadata": {
    "collapsed": true
   },
   "outputs": [],
   "source": []
  },
  {
   "cell_type": "code",
   "execution_count": null,
   "metadata": {
    "collapsed": true
   },
   "outputs": [],
   "source": []
  }
 ],
 "metadata": {
  "kernelspec": {
   "display_name": "Python 2",
   "language": "python",
   "name": "python2"
  },
  "language_info": {
   "codemirror_mode": {
    "name": "ipython",
    "version": 2
   },
   "file_extension": ".py",
   "mimetype": "text/x-python",
   "name": "python",
   "nbconvert_exporter": "python",
   "pygments_lexer": "ipython2",
   "version": "2.7.10"
  }
 },
 "nbformat": 4,
 "nbformat_minor": 0
}
